{
 "cells": [
  {
   "cell_type": "code",
   "execution_count": 1,
   "id": "0f342498-48c4-4704-9cee-cdc35586b379",
   "metadata": {},
   "outputs": [],
   "source": [
    "from tasks.addition_tasks import add, bulk_add\n",
    "from tasks.files_tasks import fetch_post_and_save_file\n",
    "import random"
   ]
  },
  {
   "cell_type": "code",
   "execution_count": 2,
   "id": "26a6d0b0-515a-49d0-a90c-5c64ae017467",
   "metadata": {},
   "outputs": [
    {
     "data": {
      "text/plain": [
       "4"
      ]
     },
     "execution_count": 2,
     "metadata": {},
     "output_type": "execute_result"
    }
   ],
   "source": [
    "# Enqueue a task and get the result. Setting `blocking=True` will make the code wait for the task to be completed:\n",
    "res = add(2,2)\n",
    "res(blocking=True)"
   ]
  },
  {
   "cell_type": "code",
   "execution_count": 3,
   "id": "050a5f90-ea28-4284-8085-f96d4387c145",
   "metadata": {},
   "outputs": [
    {
     "name": "stdout",
     "output_type": "stream",
     "text": [
      "[18, 16, 5, 11, 14, 14, 11, 11, 6, 7, 7, 11, 18, 6, 14, 10, 12, 12, 16, 15, 19, 10, 13, 17, 10, 15, 12, 10, 9, 11]\n"
     ]
    }
   ],
   "source": [
    "# Bulk pattern: A task that queues multiple tasks of the same type.\n",
    "\n",
    "# Create the arguments for 30 addition tasks\n",
    "arguments = [(random.randint(1, 10), random.randint(1, 10)) for _ in range(30)]\n",
    "\n",
    "# The bulk_add task internally queues the `add` tasks.\n",
    "# The 30 tasks are executed in 10 workers.\n",
    "bulk_res = bulk_add(arguments)\n",
    "results = bulk_res(blocking=True)\n",
    "print(results)\n"
   ]
  },
  {
   "cell_type": "code",
   "execution_count": 2,
   "id": "62517b36-9e50-4fed-ba92-744505b68f69",
   "metadata": {},
   "outputs": [
    {
     "name": "stdout",
     "output_type": "stream",
     "text": [
      "./output/a89d42c4-b1c7-4f19-a66a-7f8d5b4f70ad/post_content_1.txt\n"
     ]
    }
   ],
   "source": [
    "res = fetch_post_and_save_file(1)\n",
    "value = res(blocking=True)\n",
    "print(value)"
   ]
  },
  {
   "cell_type": "code",
   "execution_count": null,
   "id": "f2f7e839-e3a4-4333-a5d1-139931a490b1",
   "metadata": {},
   "outputs": [],
   "source": []
  }
 ],
 "metadata": {
  "kernelspec": {
   "display_name": "Python 3 (ipykernel)",
   "language": "python",
   "name": "python3"
  },
  "language_info": {
   "codemirror_mode": {
    "name": "ipython",
    "version": 3
   },
   "file_extension": ".py",
   "mimetype": "text/x-python",
   "name": "python",
   "nbconvert_exporter": "python",
   "pygments_lexer": "ipython3",
   "version": "3.13.7"
  }
 },
 "nbformat": 4,
 "nbformat_minor": 5
}
